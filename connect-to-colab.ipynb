{
 "cells": [
  {
   "cell_type": "code",
   "execution_count": null,
   "metadata": {},
   "outputs": [],
   "source": [
    "from google.colab import drive\n",
    "drive.mount(\"/content/drive\")"
   ]
  },
  {
   "cell_type": "code",
   "execution_count": null,
   "metadata": {},
   "outputs": [],
   "source": [
    "# !pip install python-dotenv --quiet\n",
    "import dotenv\n",
    "import os\n",
    "dotenv.load_dotenv(\n",
    "        os.path.join('/content/drive/MyDrive/colab-notebooks/vscode-ssh', '.env')\n",
    "    )\n",
    "password = os.getenv('PASSWORD')\n",
    "github_access_token = os.getenv('GITHUB_ACCESS_TOKEN')"
   ]
  },
  {
   "cell_type": "code",
   "execution_count": null,
   "metadata": {},
   "outputs": [],
   "source": [
    "git_repo = 'https://github.com/ldc-369/tv-series-analysis-system'"
   ]
  },
  {
   "cell_type": "code",
   "execution_count": null,
   "metadata": {},
   "outputs": [],
   "source": [
    "# !pip install colab_ssh --upgrade --quiet\n",
    "from colab_ssh import launch_ssh_cloudflared, init_git_cloudflared"
   ]
  },
  {
   "cell_type": "code",
   "execution_count": null,
   "metadata": {},
   "outputs": [],
   "source": [
    "launch_ssh_cloudflared(password)\n",
    "init_git_cloudflared(repository_url=git_repo + \".git\",\n",
    "         personal_token=github_access_token, \n",
    "         branch=\"main\",\n",
    "         email=\"ldc369tpqt@gmail.com\",\n",
    "         username=\"ldc-369\")"
   ]
  }
 ],
 "metadata": {
  "kernelspec": {
   "display_name": "venv",
   "language": "python",
   "name": "python3"
  },
  "language_info": {
   "name": "python",
   "version": "3.10.11"
  }
 },
 "nbformat": 4,
 "nbformat_minor": 2
}
