{
 "cells": [
  {
   "cell_type": "code",
   "execution_count": null,
   "metadata": {},
   "outputs": [],
   "source": [
<<<<<<< HEAD
    "!pip install python-dotenv --quiet\n",
    "!pip install colab_ssh --upgrade --quiet\n"
=======
    "from google.colab import drive\n",
    "drive.mount(\"/content/drive\")"
>>>>>>> bfb5222aa9fe5d1bee4f6c3d19c26713c0c43d8d
   ]
  },
  {
   "cell_type": "code",
   "execution_count": null,
   "metadata": {},
   "outputs": [],
   "source": [
<<<<<<< HEAD
    "from google.colab import drive\n",
    "drive.mount(\"/content/drive\")\n",
    "import dotenv\n",
    "import os\n",
    "from colab_ssh import launch_ssh_cloudflared, init_git_cloudflared\n",
    "\n",
    "\n",
    "dotenv.load_dotenv(\n",
    "        os.path.join('/content/drive/MyDrive/colab-notebooks/connect-to-colab-from-local-vscode/vscode-ssh', '.env')\n",
    "    )\n",
    "password = \"\"\n",
    "github_access_token = \"\"\n",
    "\n",
    "git_repo = 'https://github.com/ldc-369/tv-series-analysis-system'\n",
    "\n",
=======
    "# !pip install python-dotenv --quiet\n",
    "import dotenv\n",
    "import os\n",
    "dotenv.load_dotenv(\n",
    "        os.path.join('/content/drive/MyDrive/colab-notebooks/vscode-ssh', '.env')\n",
    "    )\n",
    "password = os.getenv('PASSWORD')\n",
    "github_access_token = os.getenv('GITHUB_ACCESS_TOKEN')"
   ]
  },
  {
   "cell_type": "code",
   "execution_count": null,
   "metadata": {},
   "outputs": [],
   "source": [
    "git_repo = 'https://github.com/ldc-369/tv-series-analysis-system'"
   ]
  },
  {
   "cell_type": "code",
   "execution_count": null,
   "metadata": {},
   "outputs": [],
   "source": [
    "# !pip install colab_ssh --upgrade --quiet\n",
    "from colab_ssh import launch_ssh_cloudflared, init_git_cloudflared"
   ]
  },
  {
   "cell_type": "code",
   "execution_count": null,
   "metadata": {},
   "outputs": [],
   "source": [
>>>>>>> bfb5222aa9fe5d1bee4f6c3d19c26713c0c43d8d
    "launch_ssh_cloudflared(password)\n",
    "init_git_cloudflared(repository_url=git_repo + \".git\",\n",
    "         personal_token=github_access_token, \n",
    "         branch=\"main\",\n",
    "         email=\"ldc369tpqt@gmail.com\",\n",
    "         username=\"ldc-369\")"
   ]
  }
 ],
 "metadata": {
  "kernelspec": {
   "display_name": "venv",
   "language": "python",
   "name": "python3"
  },
  "language_info": {
   "name": "python",
   "version": "3.10.11"
  }
 },
 "nbformat": 4,
 "nbformat_minor": 2
}
